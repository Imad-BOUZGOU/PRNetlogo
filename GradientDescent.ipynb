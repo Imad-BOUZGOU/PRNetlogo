{
  "nbformat": 4,
  "nbformat_minor": 0,
  "metadata": {
    "anaconda-cloud": {},
    "kernelspec": {
      "display_name": "Python 3",
      "language": "python",
      "name": "python3"
    },
    "language_info": {
      "codemirror_mode": {
        "name": "ipython",
        "version": 3
      },
      "file_extension": ".py",
      "mimetype": "text/x-python",
      "name": "python",
      "nbconvert_exporter": "python",
      "pygments_lexer": "ipython3",
      "version": "3.7.4"
    },
    "colab": {
      "name": "GradientDescent.ipynb",
      "provenance": [],
      "collapsed_sections": [],
      "toc_visible": true,
      "include_colab_link": true
    },
    "widgets": {
      "application/vnd.jupyter.widget-state+json": {
        "ab6cbd51a257462099db459f705ea17e": {
          "model_module": "@jupyter-widgets/controls",
          "model_name": "VBoxModel",
          "state": {
            "_view_name": "VBoxView",
            "_dom_classes": [
              "widget-interact"
            ],
            "_model_name": "VBoxModel",
            "_view_module": "@jupyter-widgets/controls",
            "_model_module_version": "1.5.0",
            "_view_count": null,
            "_view_module_version": "1.5.0",
            "box_style": "",
            "layout": "IPY_MODEL_9c0db94dc33844a2866e14bb3e86f28d",
            "_model_module": "@jupyter-widgets/controls",
            "children": [
              "IPY_MODEL_80624e12d10f49ba907b343f4a7169e0",
              "IPY_MODEL_3723db277fb0470da05a328434f7129a"
            ]
          }
        },
        "9c0db94dc33844a2866e14bb3e86f28d": {
          "model_module": "@jupyter-widgets/base",
          "model_name": "LayoutModel",
          "state": {
            "_view_name": "LayoutView",
            "grid_template_rows": null,
            "right": null,
            "justify_content": null,
            "_view_module": "@jupyter-widgets/base",
            "overflow": null,
            "_model_module_version": "1.2.0",
            "_view_count": null,
            "flex_flow": null,
            "width": null,
            "min_width": null,
            "border": null,
            "align_items": null,
            "bottom": null,
            "_model_module": "@jupyter-widgets/base",
            "top": null,
            "grid_column": null,
            "overflow_y": null,
            "overflow_x": null,
            "grid_auto_flow": null,
            "grid_area": null,
            "grid_template_columns": null,
            "flex": null,
            "_model_name": "LayoutModel",
            "justify_items": null,
            "grid_row": null,
            "max_height": null,
            "align_content": null,
            "visibility": null,
            "align_self": null,
            "height": null,
            "min_height": null,
            "padding": null,
            "grid_auto_rows": null,
            "grid_gap": null,
            "max_width": null,
            "order": null,
            "_view_module_version": "1.2.0",
            "grid_template_areas": null,
            "object_position": null,
            "object_fit": null,
            "grid_auto_columns": null,
            "margin": null,
            "display": null,
            "left": null
          }
        },
        "80624e12d10f49ba907b343f4a7169e0": {
          "model_module": "@jupyter-widgets/controls",
          "model_name": "IntSliderModel",
          "state": {
            "_view_name": "IntSliderView",
            "style": "IPY_MODEL_6460913d0c9848bdb4e1ccf1d57cb492",
            "_dom_classes": [],
            "description": "n_iter",
            "step": 1,
            "_model_name": "IntSliderModel",
            "orientation": "horizontal",
            "max": 50,
            "_view_module": "@jupyter-widgets/controls",
            "_model_module_version": "1.5.0",
            "value": 1,
            "_view_count": null,
            "disabled": false,
            "_view_module_version": "1.5.0",
            "min": 1,
            "continuous_update": true,
            "readout_format": "d",
            "description_tooltip": null,
            "readout": true,
            "_model_module": "@jupyter-widgets/controls",
            "layout": "IPY_MODEL_2c91838b3b0c4f3699e71fc0e3e83014"
          }
        },
        "3723db277fb0470da05a328434f7129a": {
          "model_module": "@jupyter-widgets/output",
          "model_name": "OutputModel",
          "state": {
            "_view_name": "OutputView",
            "msg_id": "",
            "_dom_classes": [],
            "_model_name": "OutputModel",
            "outputs": [
              {
                "output_type": "display_data",
                "metadata": {
                  "tags": [],
                  "needs_background": "light"
                },
                "image/png": "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\n",
                "text/plain": "<Figure size 720x432 with 2 Axes>"
              }
            ],
            "_view_module": "@jupyter-widgets/output",
            "_model_module_version": "1.0.0",
            "_view_count": null,
            "_view_module_version": "1.0.0",
            "layout": "IPY_MODEL_844bd1142dcb4e70b78f7d0bf951acc5",
            "_model_module": "@jupyter-widgets/output"
          }
        },
        "6460913d0c9848bdb4e1ccf1d57cb492": {
          "model_module": "@jupyter-widgets/controls",
          "model_name": "SliderStyleModel",
          "state": {
            "_view_name": "StyleView",
            "handle_color": null,
            "_model_name": "SliderStyleModel",
            "description_width": "",
            "_view_module": "@jupyter-widgets/base",
            "_model_module_version": "1.5.0",
            "_view_count": null,
            "_view_module_version": "1.2.0",
            "_model_module": "@jupyter-widgets/controls"
          }
        },
        "2c91838b3b0c4f3699e71fc0e3e83014": {
          "model_module": "@jupyter-widgets/base",
          "model_name": "LayoutModel",
          "state": {
            "_view_name": "LayoutView",
            "grid_template_rows": null,
            "right": null,
            "justify_content": null,
            "_view_module": "@jupyter-widgets/base",
            "overflow": null,
            "_model_module_version": "1.2.0",
            "_view_count": null,
            "flex_flow": null,
            "width": null,
            "min_width": null,
            "border": null,
            "align_items": null,
            "bottom": null,
            "_model_module": "@jupyter-widgets/base",
            "top": null,
            "grid_column": null,
            "overflow_y": null,
            "overflow_x": null,
            "grid_auto_flow": null,
            "grid_area": null,
            "grid_template_columns": null,
            "flex": null,
            "_model_name": "LayoutModel",
            "justify_items": null,
            "grid_row": null,
            "max_height": null,
            "align_content": null,
            "visibility": null,
            "align_self": null,
            "height": null,
            "min_height": null,
            "padding": null,
            "grid_auto_rows": null,
            "grid_gap": null,
            "max_width": null,
            "order": null,
            "_view_module_version": "1.2.0",
            "grid_template_areas": null,
            "object_position": null,
            "object_fit": null,
            "grid_auto_columns": null,
            "margin": null,
            "display": null,
            "left": null
          }
        },
        "844bd1142dcb4e70b78f7d0bf951acc5": {
          "model_module": "@jupyter-widgets/base",
          "model_name": "LayoutModel",
          "state": {
            "_view_name": "LayoutView",
            "grid_template_rows": null,
            "right": null,
            "justify_content": null,
            "_view_module": "@jupyter-widgets/base",
            "overflow": null,
            "_model_module_version": "1.2.0",
            "_view_count": null,
            "flex_flow": null,
            "width": null,
            "min_width": null,
            "border": null,
            "align_items": null,
            "bottom": null,
            "_model_module": "@jupyter-widgets/base",
            "top": null,
            "grid_column": null,
            "overflow_y": null,
            "overflow_x": null,
            "grid_auto_flow": null,
            "grid_area": null,
            "grid_template_columns": null,
            "flex": null,
            "_model_name": "LayoutModel",
            "justify_items": null,
            "grid_row": null,
            "max_height": null,
            "align_content": null,
            "visibility": null,
            "align_self": null,
            "height": null,
            "min_height": null,
            "padding": null,
            "grid_auto_rows": null,
            "grid_gap": null,
            "max_width": null,
            "order": null,
            "_view_module_version": "1.2.0",
            "grid_template_areas": null,
            "object_position": null,
            "object_fit": null,
            "grid_auto_columns": null,
            "margin": null,
            "display": null,
            "left": null
          }
        },
        "727cccebe1e54352a064b6d01906aef8": {
          "model_module": "@jupyter-widgets/controls",
          "model_name": "VBoxModel",
          "state": {
            "_view_name": "VBoxView",
            "_dom_classes": [
              "widget-interact"
            ],
            "_model_name": "VBoxModel",
            "_view_module": "@jupyter-widgets/controls",
            "_model_module_version": "1.5.0",
            "_view_count": null,
            "_view_module_version": "1.5.0",
            "box_style": "",
            "layout": "IPY_MODEL_7a8b029efc01409d8ac2471b0eaefcab",
            "_model_module": "@jupyter-widgets/controls",
            "children": [
              "IPY_MODEL_31a4d8835bf4452481d68a75305b7dc2",
              "IPY_MODEL_87d3f62843da45b4911e85eb3519afc7"
            ]
          }
        },
        "7a8b029efc01409d8ac2471b0eaefcab": {
          "model_module": "@jupyter-widgets/base",
          "model_name": "LayoutModel",
          "state": {
            "_view_name": "LayoutView",
            "grid_template_rows": null,
            "right": null,
            "justify_content": null,
            "_view_module": "@jupyter-widgets/base",
            "overflow": null,
            "_model_module_version": "1.2.0",
            "_view_count": null,
            "flex_flow": null,
            "width": null,
            "min_width": null,
            "border": null,
            "align_items": null,
            "bottom": null,
            "_model_module": "@jupyter-widgets/base",
            "top": null,
            "grid_column": null,
            "overflow_y": null,
            "overflow_x": null,
            "grid_auto_flow": null,
            "grid_area": null,
            "grid_template_columns": null,
            "flex": null,
            "_model_name": "LayoutModel",
            "justify_items": null,
            "grid_row": null,
            "max_height": null,
            "align_content": null,
            "visibility": null,
            "align_self": null,
            "height": null,
            "min_height": null,
            "padding": null,
            "grid_auto_rows": null,
            "grid_gap": null,
            "max_width": null,
            "order": null,
            "_view_module_version": "1.2.0",
            "grid_template_areas": null,
            "object_position": null,
            "object_fit": null,
            "grid_auto_columns": null,
            "margin": null,
            "display": null,
            "left": null
          }
        },
        "31a4d8835bf4452481d68a75305b7dc2": {
          "model_module": "@jupyter-widgets/controls",
          "model_name": "IntSliderModel",
          "state": {
            "_view_name": "IntSliderView",
            "style": "IPY_MODEL_c0385fca20e84d41a14133a09b4951ca",
            "_dom_classes": [],
            "description": "n_iter",
            "step": 1,
            "_model_name": "IntSliderModel",
            "orientation": "horizontal",
            "max": 50,
            "_view_module": "@jupyter-widgets/controls",
            "_model_module_version": "1.5.0",
            "value": 1,
            "_view_count": null,
            "disabled": false,
            "_view_module_version": "1.5.0",
            "min": 1,
            "continuous_update": true,
            "readout_format": "d",
            "description_tooltip": null,
            "readout": true,
            "_model_module": "@jupyter-widgets/controls",
            "layout": "IPY_MODEL_6c57072c8b274198bc9921d747a7deb0"
          }
        },
        "87d3f62843da45b4911e85eb3519afc7": {
          "model_module": "@jupyter-widgets/output",
          "model_name": "OutputModel",
          "state": {
            "_view_name": "OutputView",
            "msg_id": "",
            "_dom_classes": [],
            "_model_name": "OutputModel",
            "outputs": [
              {
                "output_type": "display_data",
                "metadata": {
                  "tags": [],
                  "needs_background": "light"
                },
                "image/png": "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\n",
                "text/plain": "<Figure size 720x432 with 2 Axes>"
              }
            ],
            "_view_module": "@jupyter-widgets/output",
            "_model_module_version": "1.0.0",
            "_view_count": null,
            "_view_module_version": "1.0.0",
            "layout": "IPY_MODEL_491ddc8e4ed042ad91bc8748d5aa58c7",
            "_model_module": "@jupyter-widgets/output"
          }
        },
        "c0385fca20e84d41a14133a09b4951ca": {
          "model_module": "@jupyter-widgets/controls",
          "model_name": "SliderStyleModel",
          "state": {
            "_view_name": "StyleView",
            "handle_color": null,
            "_model_name": "SliderStyleModel",
            "description_width": "",
            "_view_module": "@jupyter-widgets/base",
            "_model_module_version": "1.5.0",
            "_view_count": null,
            "_view_module_version": "1.2.0",
            "_model_module": "@jupyter-widgets/controls"
          }
        },
        "6c57072c8b274198bc9921d747a7deb0": {
          "model_module": "@jupyter-widgets/base",
          "model_name": "LayoutModel",
          "state": {
            "_view_name": "LayoutView",
            "grid_template_rows": null,
            "right": null,
            "justify_content": null,
            "_view_module": "@jupyter-widgets/base",
            "overflow": null,
            "_model_module_version": "1.2.0",
            "_view_count": null,
            "flex_flow": null,
            "width": null,
            "min_width": null,
            "border": null,
            "align_items": null,
            "bottom": null,
            "_model_module": "@jupyter-widgets/base",
            "top": null,
            "grid_column": null,
            "overflow_y": null,
            "overflow_x": null,
            "grid_auto_flow": null,
            "grid_area": null,
            "grid_template_columns": null,
            "flex": null,
            "_model_name": "LayoutModel",
            "justify_items": null,
            "grid_row": null,
            "max_height": null,
            "align_content": null,
            "visibility": null,
            "align_self": null,
            "height": null,
            "min_height": null,
            "padding": null,
            "grid_auto_rows": null,
            "grid_gap": null,
            "max_width": null,
            "order": null,
            "_view_module_version": "1.2.0",
            "grid_template_areas": null,
            "object_position": null,
            "object_fit": null,
            "grid_auto_columns": null,
            "margin": null,
            "display": null,
            "left": null
          }
        },
        "491ddc8e4ed042ad91bc8748d5aa58c7": {
          "model_module": "@jupyter-widgets/base",
          "model_name": "LayoutModel",
          "state": {
            "_view_name": "LayoutView",
            "grid_template_rows": null,
            "right": null,
            "justify_content": null,
            "_view_module": "@jupyter-widgets/base",
            "overflow": null,
            "_model_module_version": "1.2.0",
            "_view_count": null,
            "flex_flow": null,
            "width": null,
            "min_width": null,
            "border": null,
            "align_items": null,
            "bottom": null,
            "_model_module": "@jupyter-widgets/base",
            "top": null,
            "grid_column": null,
            "overflow_y": null,
            "overflow_x": null,
            "grid_auto_flow": null,
            "grid_area": null,
            "grid_template_columns": null,
            "flex": null,
            "_model_name": "LayoutModel",
            "justify_items": null,
            "grid_row": null,
            "max_height": null,
            "align_content": null,
            "visibility": null,
            "align_self": null,
            "height": null,
            "min_height": null,
            "padding": null,
            "grid_auto_rows": null,
            "grid_gap": null,
            "max_width": null,
            "order": null,
            "_view_module_version": "1.2.0",
            "grid_template_areas": null,
            "object_position": null,
            "object_fit": null,
            "grid_auto_columns": null,
            "margin": null,
            "display": null,
            "left": null
          }
        }
      }
    }
  },
  "cells": [
    {
      "cell_type": "markdown",
      "metadata": {
        "id": "view-in-github",
        "colab_type": "text"
      },
      "source": [
        "<a href=\"https://colab.research.google.com/github/Imad-BOUZGOU/PRNetlogo/blob/master/GradientDescent.ipynb\" target=\"_parent\"><img src=\"https://colab.research.google.com/assets/colab-badge.svg\" alt=\"Open In Colab\"/></a>"
      ]
    },
    {
      "cell_type": "code",
      "metadata": {
        "id": "__pkNFOtB0P7",
        "outputId": "0bbbf395-1ce5-48f4-ce1c-87a867777260",
        "colab": {
          "base_uri": "https://localhost:8080/",
          "height": 51
        }
      },
      "source": [
        "# Useful starting lines\n",
        "%matplotlib inline\n",
        "import numpy as np\n",
        "import matplotlib.pyplot as plt\n",
        "%load_ext autoreload\n",
        "%autoreload 2"
      ],
      "execution_count": 57,
      "outputs": [
        {
          "output_type": "stream",
          "text": [
            "The autoreload extension is already loaded. To reload it, use:\n",
            "  %reload_ext autoreload\n"
          ],
          "name": "stdout"
        }
      ]
    },
    {
      "cell_type": "markdown",
      "metadata": {
        "id": "lE-RgKlbB0QF"
      },
      "source": [
        "# Importer les données"
      ]
    },
    {
      "cell_type": "code",
      "metadata": {
        "id": "dlnOclI6B0QH"
      },
      "source": [
        "import datetime\n",
        "from helpers import *\n",
        "\n",
        "height, weight, gender = load_data(sub_sample=False, add_outlier=False)\n",
        "x, mean_x, std_x = standardize(height)\n",
        "b, A = build_model_data(x, weight)"
      ],
      "execution_count": 58,
      "outputs": []
    },
    {
      "cell_type": "code",
      "metadata": {
        "id": "ztnFv4xAB0QN",
        "outputId": "04e4b497-ff94-48c7-a9b9-392cb5dced2a",
        "colab": {
          "base_uri": "https://localhost:8080/",
          "height": 34
        }
      },
      "source": [
        "b.shape, A.shape\n"
      ],
      "execution_count": 59,
      "outputs": [
        {
          "output_type": "execute_result",
          "data": {
            "text/plain": [
              "((10000,), (10000, 2))"
            ]
          },
          "metadata": {
            "tags": []
          },
          "execution_count": 59
        }
      ]
    },
    {
      "cell_type": "markdown",
      "metadata": {
        "id": "LMiKWl2qB0Qc"
      },
      "source": [
        "# Estimation des moindres carrés\n",
        "\n",
        "L'estimation des moindres carrés est l'un des algorithmes fondamentaux de l'apprentissage statisque. Etant données une matrice $A$ de taille $ n \\times d $ et un vecteur $b$ de taille $ n \\times 1$, l'objectif est de trouver un vecteur $x \\in \\mathbb{R}^d$ minimisant la fonction $$f(x) = \\frac{1}{2n} \\sum_{i=1}^{n} (a_i^\\top x - b_i)^2 = \\frac{1}{2n} \\|Ax - b\\|^2 $$\n",
        "\n",
        "Dans cet exercice, nous allons chercher $x$ en utilisant l'estimation des moindres carrées.\n",
        "\n",
        "Prouver que la fonction $f$ est $L$-lisse avec $L = \\frac1n\\|A\\|_{s}^2$ où la norme spectrale $\\|A\\|_s := \\max_{\\|v\\| = 1} \\|Av\\|$.\n",
        "\n",
        "Pour la suite, vous pouvez supposer que la fonction $f$ est $L$-lisse."
      ]
    },
    {
      "cell_type": "markdown",
      "metadata": {
        "id": "zuve8P5gB0Qe"
      },
      "source": [
        "# Calcul de la fonction objective\n",
        "La méthode `calculate_mse` donnée ici calcule l'erreur quadratique moyenne d'un vecteur `e`."
      ]
    },
    {
      "cell_type": "code",
      "metadata": {
        "id": "FUHi2KkNB0Qf"
      },
      "source": [
        "def calculate_mse(e):\n",
        "    \"\"\"Calculer l'erreur quadratique moyenne du vecteur e.\"\"\"\n",
        "    return 1/2*np.mean(e**2)"
      ],
      "execution_count": 60,
      "outputs": []
    },
    {
      "cell_type": "markdown",
      "metadata": {
        "id": "Pmyq5gSNB0Qm"
      },
      "source": [
        "# Descente de gradient"
      ]
    },
    {
      "cell_type": "markdown",
      "metadata": {
        "id": "_GdRvlo8B0Qn"
      },
      "source": [
        "Compéléter la méthode `compute_gradient` suivante:"
      ]
    },
    {
      "cell_type": "code",
      "metadata": {
        "id": "QnsAN24aB0Qo"
      },
      "source": [
        "def compute_gradient(b, A, x):\n",
        "    \n",
        "    \"\"\"Compute the gradient.\"\"\"\n",
        "\n",
        "    n = len(b)\n",
        "    \n",
        "    grad= 1/n *A.T.dot(A.dot(x)  - b)\n",
        "    \n",
        "    \n",
        "    err= calculate_mse(A.dot(x) - b)\n",
        "    print(err)\n",
        "    \n",
        "    \n",
        "    return grad, err"
      ],
      "execution_count": 61,
      "outputs": []
    },
    {
      "cell_type": "markdown",
      "metadata": {
        "id": "IreOyh1dB0Qx"
      },
      "source": [
        "Compléter la méthode `gradient_descent` suivante:"
      ]
    },
    {
      "cell_type": "code",
      "metadata": {
        "id": "OgnopN7zB0Qz"
      },
      "source": [
        "def gradient_descent(b, A, initial_x, max_iters, gamma):\n",
        "    \"\"\"Gradient descent algorithm.\"\"\"\n",
        "    # Définier les parametres pour stocker x et les valeurs de la fonction objective.\n",
        "    xs=[]\n",
        "    objectives = []\n",
        "    x = initial_x\n",
        "    for n_iter in range(max_iters):\n",
        "        # ***************************************************\n",
        "        # INSERER VOTRE CODE\n",
        "        # TODO: calculer le gradient et la fonction objective\n",
        "        # ***************************************************\n",
        "        grad,obj = compute_gradient(b, A, x)\n",
        "        # ***************************************************\n",
        "        # INSERER VOTRE CODE\n",
        "        # TODO: mettre à jour x par descente du gradient\n",
        "        # ***************************************************\n",
        "        x= x - gamma * grad\n",
        "        # store x and objective function value\n",
        "        xs.append(x)\n",
        "        objectives.append(obj)\n",
        "        print(\"Gradient Descent({bi}/{ti}): objective={l}\".format(\n",
        "              bi=n_iter, ti=max_iters - 1, l=obj))\n",
        "\n",
        "    return objectives, xs"
      ],
      "execution_count": 62,
      "outputs": []
    },
    {
      "cell_type": "markdown",
      "metadata": {
        "id": "HYiNhVhYB0Q7"
      },
      "source": [
        "Tester votre méthode descente de grandient avec les pas naifs par un code demo suivant. "
      ]
    },
    {
      "cell_type": "code",
      "metadata": {
        "id": "-N7UypcSB0Q9",
        "outputId": "1fa8946e-6b7c-46b2-e174-c9242d6bd8b1",
        "colab": {
          "base_uri": "https://localhost:8080/",
          "height": 1000
        }
      },
      "source": [
        "# from gradient_descent import *\n",
        "from plots import gradient_descent_visualization\n",
        "\n",
        "# Define the parameters of the algorithm.\n",
        "max_iters = 50\n",
        "\n",
        "gamma = 0.1\n",
        "\n",
        "# Initialization\n",
        "x_initial = np.zeros(A.shape[1])\n",
        "\n",
        "# Start gradient descent.\n",
        "start_time = datetime.datetime.now()\n",
        "gradient_objectives_naive, gradient_xs_naive = gradient_descent(b, A, x_initial, max_iters, gamma)\n",
        "end_time = datetime.datetime.now()\n",
        "\n",
        "# Print result\n",
        "exection_time = (end_time - start_time).total_seconds()\n",
        "print(\"Gradient Descent: execution time={t:.3f} seconds\".format(t=exection_time))"
      ],
      "execution_count": 63,
      "outputs": [
        {
          "output_type": "stream",
          "text": [
            "2792.2367127591674\n",
            "Gradient Descent(0/49): objective=2792.2367127591674\n",
            "2264.6350560300025\n",
            "Gradient Descent(1/49): objective=2264.6350560300025\n",
            "1837.27771407938\n",
            "Gradient Descent(2/49): objective=1837.27771407938\n",
            "1491.1182670993753\n",
            "Gradient Descent(3/49): objective=1491.1182670993753\n",
            "1210.729115045571\n",
            "Gradient Descent(4/49): objective=1210.729115045571\n",
            "983.6139018819902\n",
            "Gradient Descent(5/49): objective=983.6139018819902\n",
            "799.6505792194896\n",
            "Gradient Descent(6/49): objective=799.6505792194896\n",
            "650.6402878628644\n",
            "Gradient Descent(7/49): objective=650.6402878628644\n",
            "529.9419518639978\n",
            "Gradient Descent(8/49): objective=529.9419518639978\n",
            "432.1762997049158\n",
            "Gradient Descent(9/49): objective=432.1762997049158\n",
            "352.9861214560594\n",
            "Gradient Descent(10/49): objective=352.9861214560594\n",
            "288.84207707448564\n",
            "Gradient Descent(11/49): objective=288.84207707448564\n",
            "236.88540112541085\n",
            "Gradient Descent(12/49): objective=236.88540112541085\n",
            "194.8004936066604\n",
            "Gradient Descent(13/49): objective=194.8004936066604\n",
            "160.7117185164725\n",
            "Gradient Descent(14/49): objective=160.7117185164725\n",
            "133.09981069342035\n",
            "Gradient Descent(15/49): objective=133.09981069342035\n",
            "110.73416535674808\n",
            "Gradient Descent(16/49): objective=110.73416535674808\n",
            "92.61799263404352\n",
            "Gradient Descent(17/49): objective=92.61799263404352\n",
            "77.94389272865284\n",
            "Gradient Descent(18/49): objective=77.94389272865284\n",
            "66.0578718052864\n",
            "Gradient Descent(19/49): objective=66.0578718052864\n",
            "56.43019485735959\n",
            "Gradient Descent(20/49): objective=56.43019485735959\n",
            "48.63177652953886\n",
            "Gradient Descent(21/49): objective=48.63177652953886\n",
            "42.31505768400409\n",
            "Gradient Descent(22/49): objective=42.31505768400409\n",
            "37.19851541912091\n",
            "Gradient Descent(23/49): objective=37.19851541912091\n",
            "33.05411618456553\n",
            "Gradient Descent(24/49): objective=33.05411618456553\n",
            "29.69715280457569\n",
            "Gradient Descent(25/49): objective=29.69715280457569\n",
            "26.978012466783916\n",
            "Gradient Descent(26/49): objective=26.978012466783916\n",
            "24.77550879317255\n",
            "Gradient Descent(27/49): objective=24.77550879317255\n",
            "22.99148081754737\n",
            "Gradient Descent(28/49): objective=22.99148081754737\n",
            "21.546418157290944\n",
            "Gradient Descent(29/49): objective=21.546418157290944\n",
            "20.375917402483257\n",
            "Gradient Descent(30/49): objective=20.375917402483257\n",
            "19.42781179108901\n",
            "Gradient Descent(31/49): objective=19.42781179108901\n",
            "18.659846245859693\n",
            "Gradient Descent(32/49): objective=18.659846245859693\n",
            "18.037794154223942\n",
            "Gradient Descent(33/49): objective=18.037794154223942\n",
            "17.53393195999899\n",
            "Gradient Descent(34/49): objective=17.53393195999899\n",
            "17.125803582676767\n",
            "Gradient Descent(35/49): objective=17.125803582676767\n",
            "16.795219597045776\n",
            "Gradient Descent(36/49): objective=16.795219597045776\n",
            "16.527446568684663\n",
            "Gradient Descent(37/49): objective=16.527446568684663\n",
            "16.310550415712164\n",
            "Gradient Descent(38/49): objective=16.310550415712164\n",
            "16.134864531804435\n",
            "Gradient Descent(39/49): objective=16.134864531804435\n",
            "15.992558965839178\n",
            "Gradient Descent(40/49): objective=15.992558965839178\n",
            "15.877291457407319\n",
            "Gradient Descent(41/49): objective=15.877291457407319\n",
            "15.783924775577509\n",
            "Gradient Descent(42/49): objective=15.783924775577509\n",
            "15.70829776329537\n",
            "Gradient Descent(43/49): objective=15.70829776329537\n",
            "15.647039883346832\n",
            "Gradient Descent(44/49): objective=15.647039883346832\n",
            "15.597421000588525\n",
            "Gradient Descent(45/49): objective=15.597421000588525\n",
            "15.557229705554294\n",
            "Gradient Descent(46/49): objective=15.557229705554294\n",
            "15.52467475657656\n",
            "Gradient Descent(47/49): objective=15.52467475657656\n",
            "15.498305247904602\n",
            "Gradient Descent(48/49): objective=15.498305247904602\n",
            "15.476945945880312\n",
            "Gradient Descent(49/49): objective=15.476945945880312\n",
            "Gradient Descent: execution time=0.028 seconds\n"
          ],
          "name": "stdout"
        }
      ]
    },
    {
      "cell_type": "markdown",
      "metadata": {
        "id": "4AJGrQroB0RE"
      },
      "source": [
        "Visualisation"
      ]
    },
    {
      "cell_type": "code",
      "metadata": {
        "id": "Wv7ERBzpB0RF",
        "outputId": "b3f424bc-1672-401c-c37a-2577d9e77d86",
        "colab": {
          "base_uri": "https://localhost:8080/",
          "height": 443,
          "referenced_widgets": [
            "ab6cbd51a257462099db459f705ea17e",
            "9c0db94dc33844a2866e14bb3e86f28d",
            "80624e12d10f49ba907b343f4a7169e0",
            "3723db277fb0470da05a328434f7129a",
            "6460913d0c9848bdb4e1ccf1d57cb492",
            "2c91838b3b0c4f3699e71fc0e3e83014",
            "844bd1142dcb4e70b78f7d0bf951acc5"
          ]
        }
      },
      "source": [
        "from ipywidgets import IntSlider, interact\n",
        "from grid_search import *\n",
        "\n",
        "def plot_figure(n_iter):\n",
        "    # Generate grid data for visualization (parameters to be swept and best combination)\n",
        "    grid_x0, grid_x1 = generate_w(num_intervals=10)\n",
        "    grid_objectives = grid_search(b, A, grid_x0, grid_x1)\n",
        "    obj_star, x0_star, x1_star = get_best_parameters(grid_x0, grid_x1, grid_objectives)\n",
        "    \n",
        "    fig = gradient_descent_visualization(\n",
        "        gradient_objectives_naive, gradient_xs_naive, grid_objectives, grid_x0, grid_x1, mean_x, std_x, height, weight, n_iter)\n",
        "    fig.set_size_inches(10.0, 6.0)\n",
        "\n",
        "interact(plot_figure, n_iter=IntSlider(min=1, max=len(gradient_xs_naive)))"
      ],
      "execution_count": 64,
      "outputs": [
        {
          "output_type": "display_data",
          "data": {
            "application/vnd.jupyter.widget-view+json": {
              "model_id": "ab6cbd51a257462099db459f705ea17e",
              "version_minor": 0,
              "version_major": 2
            },
            "text/plain": [
              "interactive(children=(IntSlider(value=1, description='n_iter', max=50, min=1), Output()), _dom_classes=('widge…"
            ]
          },
          "metadata": {
            "tags": []
          }
        },
        {
          "output_type": "execute_result",
          "data": {
            "text/plain": [
              "<function __main__.plot_figure>"
            ]
          },
          "metadata": {
            "tags": []
          },
          "execution_count": 64
        }
      ]
    },
    {
      "cell_type": "markdown",
      "metadata": {
        "id": "dNGP8qdVB0RJ"
      },
      "source": [
        "# Descente de gradient avec meilleure convergence \n",
        "Nous allons utliser faire des modifications en exploitant la propriété lisse de la fonction. On calcule d'abord le paramètre L puis mettre à jour l'algorithm descente de gradient."
      ]
    },
    {
      "cell_type": "markdown",
      "metadata": {
        "id": "PLjDDX9IB0RK"
      },
      "source": [
        "## Calcul $L$"
      ]
    },
    {
      "cell_type": "markdown",
      "metadata": {
        "id": "tEMTTR6KB0RM"
      },
      "source": [
        "Pour calculer la norme (spectrale) de $A$, vous pouvez utiliser np.linalg.norm(A, 2)"
      ]
    },
    {
      "cell_type": "code",
      "metadata": {
        "id": "dr12-YlMB0RN"
      },
      "source": [
        "def calculate_L(b, A):\n",
        "    \"\"\"Calculate the smoothness constant for f\"\"\"\n",
        "    # ***************************************************\n",
        "    # INSERER VOTRE CODE\n",
        "    # TODO: calculer ||A.T*A||\n",
        "    # ***************************************************\n",
        "    c= np.linalg.norm(A.T.dot(A), 2)\n",
        "    # ***************************************************\n",
        "    # INSERER VOTRE CODE\n",
        "    # TODO: calculer L = paramètre de lissage de f\n",
        "    # ***************************************************\n",
        "    L= 1/len(b) * c\n",
        "\n",
        "    return L"
      ],
      "execution_count": 65,
      "outputs": []
    },
    {
      "cell_type": "markdown",
      "metadata": {
        "id": "UiATg3TqB0RU"
      },
      "source": [
        "## Meilleur algorithme descente de gradient\n",
        "Implémenter l'algorithme descente de gradient avec une meilleur convergence. "
      ]
    },
    {
      "cell_type": "code",
      "metadata": {
        "id": "RaxLK59SB0RV",
        "outputId": "16889f8f-ed82-40da-d2a8-dc9fae6fc2cd",
        "colab": {
          "base_uri": "https://localhost:8080/",
          "height": 1000
        }
      },
      "source": [
        "# Définir les paramètres \n",
        "max_iters = 50\n",
        "\n",
        "# ***************************************************\n",
        "# INSERER VOTRE CODE\n",
        "# TODO: meilleur descente du gradient \n",
        "# ***************************************************\n",
        "gamma = 1/calculate_L(b, A)\n",
        "\n",
        "# Initialization\n",
        "x_initial = np.zeros(A.shape[1])\n",
        "\n",
        "# Start gradient descent.\n",
        "start_time = datetime.datetime.now()\n",
        "gradient_objectives, gradient_xs = gradient_descent(b, A, x_initial, max_iters, gamma)\n",
        "end_time = datetime.datetime.now()\n",
        "\n",
        "# Print result\n",
        "exection_time = (end_time - start_time).total_seconds()\n",
        "print(\"Gradient Descent: execution time={t:.3f} seconds\".format(t=exection_time))"
      ],
      "execution_count": 66,
      "outputs": [
        {
          "output_type": "stream",
          "text": [
            "2792.2367127591674\n",
            "Gradient Descent(0/49): objective=2792.2367127591674\n",
            "15.3858878688294\n",
            "Gradient Descent(1/49): objective=15.3858878688294\n",
            "15.3858878688294\n",
            "Gradient Descent(2/49): objective=15.3858878688294\n",
            "15.3858878688294\n",
            "Gradient Descent(3/49): objective=15.3858878688294\n",
            "15.3858878688294\n",
            "Gradient Descent(4/49): objective=15.3858878688294\n",
            "15.3858878688294\n",
            "Gradient Descent(5/49): objective=15.3858878688294\n",
            "15.3858878688294\n",
            "Gradient Descent(6/49): objective=15.3858878688294\n",
            "15.3858878688294\n",
            "Gradient Descent(7/49): objective=15.3858878688294\n",
            "15.3858878688294\n",
            "Gradient Descent(8/49): objective=15.3858878688294\n",
            "15.3858878688294\n",
            "Gradient Descent(9/49): objective=15.3858878688294\n",
            "15.3858878688294\n",
            "Gradient Descent(10/49): objective=15.3858878688294\n",
            "15.3858878688294\n",
            "Gradient Descent(11/49): objective=15.3858878688294\n",
            "15.3858878688294\n",
            "Gradient Descent(12/49): objective=15.3858878688294\n",
            "15.3858878688294\n",
            "Gradient Descent(13/49): objective=15.3858878688294\n",
            "15.3858878688294\n",
            "Gradient Descent(14/49): objective=15.3858878688294\n",
            "15.3858878688294\n",
            "Gradient Descent(15/49): objective=15.3858878688294\n",
            "15.3858878688294\n",
            "Gradient Descent(16/49): objective=15.3858878688294\n",
            "15.3858878688294\n",
            "Gradient Descent(17/49): objective=15.3858878688294\n",
            "15.3858878688294\n",
            "Gradient Descent(18/49): objective=15.3858878688294\n",
            "15.3858878688294\n",
            "Gradient Descent(19/49): objective=15.3858878688294\n",
            "15.3858878688294\n",
            "Gradient Descent(20/49): objective=15.3858878688294\n",
            "15.3858878688294\n",
            "Gradient Descent(21/49): objective=15.3858878688294\n",
            "15.3858878688294\n",
            "Gradient Descent(22/49): objective=15.3858878688294\n",
            "15.3858878688294\n",
            "Gradient Descent(23/49): objective=15.3858878688294\n",
            "15.3858878688294\n",
            "Gradient Descent(24/49): objective=15.3858878688294\n",
            "15.3858878688294\n",
            "Gradient Descent(25/49): objective=15.3858878688294\n",
            "15.3858878688294\n",
            "Gradient Descent(26/49): objective=15.3858878688294\n",
            "15.3858878688294\n",
            "Gradient Descent(27/49): objective=15.3858878688294\n",
            "15.3858878688294\n",
            "Gradient Descent(28/49): objective=15.3858878688294\n",
            "15.3858878688294\n",
            "Gradient Descent(29/49): objective=15.3858878688294\n",
            "15.3858878688294\n",
            "Gradient Descent(30/49): objective=15.3858878688294\n",
            "15.3858878688294\n",
            "Gradient Descent(31/49): objective=15.3858878688294\n",
            "15.3858878688294\n",
            "Gradient Descent(32/49): objective=15.3858878688294\n",
            "15.3858878688294\n",
            "Gradient Descent(33/49): objective=15.3858878688294\n",
            "15.3858878688294\n",
            "Gradient Descent(34/49): objective=15.3858878688294\n",
            "15.3858878688294\n",
            "Gradient Descent(35/49): objective=15.3858878688294\n",
            "15.3858878688294\n",
            "Gradient Descent(36/49): objective=15.3858878688294\n",
            "15.3858878688294\n",
            "Gradient Descent(37/49): objective=15.3858878688294\n",
            "15.3858878688294\n",
            "Gradient Descent(38/49): objective=15.3858878688294\n",
            "15.3858878688294\n",
            "Gradient Descent(39/49): objective=15.3858878688294\n",
            "15.3858878688294\n",
            "Gradient Descent(40/49): objective=15.3858878688294\n",
            "15.3858878688294\n",
            "Gradient Descent(41/49): objective=15.3858878688294\n",
            "15.3858878688294\n",
            "Gradient Descent(42/49): objective=15.3858878688294\n",
            "15.3858878688294\n",
            "Gradient Descent(43/49): objective=15.3858878688294\n",
            "15.3858878688294\n",
            "Gradient Descent(44/49): objective=15.3858878688294\n",
            "15.3858878688294\n",
            "Gradient Descent(45/49): objective=15.3858878688294\n",
            "15.3858878688294\n",
            "Gradient Descent(46/49): objective=15.3858878688294\n",
            "15.3858878688294\n",
            "Gradient Descent(47/49): objective=15.3858878688294\n",
            "15.3858878688294\n",
            "Gradient Descent(48/49): objective=15.3858878688294\n",
            "15.3858878688294\n",
            "Gradient Descent(49/49): objective=15.3858878688294\n",
            "Gradient Descent: execution time=0.032 seconds\n"
          ],
          "name": "stdout"
        }
      ]
    },
    {
      "cell_type": "code",
      "metadata": {
        "id": "vJqgjGNfsGnd",
        "outputId": "a80a422a-0c53-40fe-c08b-e85d14973ea2",
        "colab": {
          "base_uri": "https://localhost:8080/",
          "height": 34
        }
      },
      "source": [
        "1/calculate_L(b, A)"
      ],
      "execution_count": 67,
      "outputs": [
        {
          "output_type": "execute_result",
          "data": {
            "text/plain": [
              "0.9999999999999984"
            ]
          },
          "metadata": {
            "tags": []
          },
          "execution_count": 67
        }
      ]
    },
    {
      "cell_type": "markdown",
      "metadata": {
        "id": "xUzra9Y0B0Ra"
      },
      "source": [
        "Visualisation"
      ]
    },
    {
      "cell_type": "code",
      "metadata": {
        "id": "kYzXnT46B0Rb",
        "outputId": "350538c4-86da-4bd1-b1d5-1a8f6f6d64d7",
        "colab": {
          "base_uri": "https://localhost:8080/",
          "height": 443,
          "referenced_widgets": [
            "727cccebe1e54352a064b6d01906aef8",
            "7a8b029efc01409d8ac2471b0eaefcab",
            "31a4d8835bf4452481d68a75305b7dc2",
            "87d3f62843da45b4911e85eb3519afc7",
            "c0385fca20e84d41a14133a09b4951ca",
            "6c57072c8b274198bc9921d747a7deb0",
            "491ddc8e4ed042ad91bc8748d5aa58c7"
          ]
        }
      },
      "source": [
        "def plot_figure(n_iter):\n",
        "    # Generate grid data for visualization (parameters to be swept and best combination)\n",
        "    grid_x0, grid_x1 = generate_w(num_intervals=10)\n",
        "    grid_objectives = grid_search(b, A, grid_x0, grid_x1)\n",
        "    obj_star, x0_star, x1_star = get_best_parameters(grid_x0, grid_x1, grid_objectives)\n",
        "    \n",
        "    fig = gradient_descent_visualization(\n",
        "        gradient_objectives, gradient_xs, grid_objectives, grid_x0, grid_x1, mean_x, std_x, height, weight, n_iter)\n",
        "    fig.set_size_inches(10.0, 6.0)\n",
        "\n",
        "interact(plot_figure, n_iter=IntSlider(min=1, max=len(gradient_xs)))"
      ],
      "execution_count": 68,
      "outputs": [
        {
          "output_type": "display_data",
          "data": {
            "application/vnd.jupyter.widget-view+json": {
              "model_id": "727cccebe1e54352a064b6d01906aef8",
              "version_minor": 0,
              "version_major": 2
            },
            "text/plain": [
              "interactive(children=(IntSlider(value=1, description='n_iter', max=50, min=1), Output()), _dom_classes=('widge…"
            ]
          },
          "metadata": {
            "tags": []
          }
        },
        {
          "output_type": "execute_result",
          "data": {
            "text/plain": [
              "<function __main__.plot_figure>"
            ]
          },
          "metadata": {
            "tags": []
          },
          "execution_count": 68
        }
      ]
    },
    {
      "cell_type": "markdown",
      "metadata": {
        "id": "t9jGFX1MB0Rh"
      },
      "source": [
        "# Importer les données plus complexe \n",
        "La source des données est  https://archive.ics.uci.edu/ml/datasets/Concrete+Compressive+Strength "
      ]
    },
    {
      "cell_type": "code",
      "metadata": {
        "id": "gEhqynIUB0Ri"
      },
      "source": [
        "data = np.loadtxt(\"Concrete_Data.csv\",delimiter=\",\")\n",
        "\n",
        "A = data[:,:-1]\n",
        "b = data[:,-1]\n",
        "A, mean_A, std_A = standardize(A)"
      ],
      "execution_count": 69,
      "outputs": []
    },
    {
      "cell_type": "code",
      "metadata": {
        "id": "XO6W5lBzB0Rm",
        "outputId": "7176322e-9448-4b70-c0e3-6feb119f6935",
        "colab": {
          "base_uri": "https://localhost:8080/",
          "height": 34
        }
      },
      "source": [
        "b.shape, A.shape"
      ],
      "execution_count": 70,
      "outputs": [
        {
          "output_type": "execute_result",
          "data": {
            "text/plain": [
              "((1030,), (1030, 8))"
            ]
          },
          "metadata": {
            "tags": []
          },
          "execution_count": 70
        }
      ]
    },
    {
      "cell_type": "markdown",
      "metadata": {
        "id": "76QILmbTB0Rq"
      },
      "source": [
        "# Exécution Descente de gradient "
      ]
    },
    {
      "cell_type": "markdown",
      "metadata": {
        "id": "azb9dJiFB0Rr"
      },
      "source": [
        "## Descente de gradient avec lissage \n",
        "Compléter le code en utilisant la lissage de la fonction"
      ]
    },
    {
      "cell_type": "code",
      "metadata": {
        "id": "Tp4jMy4QB0Rr",
        "outputId": "09a7579e-23f6-4a3f-81cc-7f881f7653e8",
        "colab": {
          "base_uri": "https://localhost:8080/",
          "height": 1000
        }
      },
      "source": [
        "max_iters = 50\n",
        "\n",
        "\n",
        "# ***************************************************\n",
        "# INSERER VOTRE CODE\n",
        "# TODO: un meilleur pas \n",
        "# ***************************************************\n",
        "gamma = 1/calculate_L(b, A)\n",
        "\n",
        "\n",
        "# Initialization\n",
        "x_initial = np.zeros(A.shape[1])\n",
        "\n",
        "# Start gradient descent.\n",
        "start_time = datetime.datetime.now()\n",
        "gradient_objectives, gradient_xs = gradient_descent(b, A, x_initial, max_iters, gamma)\n",
        "end_time = datetime.datetime.now()\n",
        "\n",
        "# Print result\n",
        "exection_time = (end_time - start_time).total_seconds()\n",
        "print(\"Gradient Descent: execution time={t:.3f} seconds\".format(t=exection_time))"
      ],
      "execution_count": 73,
      "outputs": [
        {
          "output_type": "stream",
          "text": [
            "780.8686016504854\n",
            "Gradient Descent(0/49): objective=780.8686016504854\n",
            "721.5052560260676\n",
            "Gradient Descent(1/49): objective=721.5052560260676\n",
            "706.7843584315374\n",
            "Gradient Descent(2/49): objective=706.7843584315374\n",
            "702.1659603718193\n",
            "Gradient Descent(3/49): objective=702.1659603718193\n",
            "700.3195706210597\n",
            "Gradient Descent(4/49): objective=700.3195706210597\n",
            "699.3927282552014\n",
            "Gradient Descent(5/49): objective=699.3927282552014\n",
            "698.8265138747603\n",
            "Gradient Descent(6/49): objective=698.8265138747603\n",
            "698.4252460378514\n",
            "Gradient Descent(7/49): objective=698.4252460378514\n",
            "698.1121802865196\n",
            "Gradient Descent(8/49): objective=698.1121802865196\n",
            "697.8540419775695\n",
            "Gradient Descent(9/49): objective=697.8540419775695\n",
            "697.6346924802035\n",
            "Gradient Descent(10/49): objective=697.6346924802035\n",
            "697.4451956987403\n",
            "Gradient Descent(11/49): objective=697.4451956987403\n",
            "697.2798771098778\n",
            "Gradient Descent(12/49): objective=697.2798771098778\n",
            "697.134694345026\n",
            "Gradient Descent(13/49): objective=697.134694345026\n",
            "697.0065306304226\n",
            "Gradient Descent(14/49): objective=697.0065306304226\n",
            "696.8928669366339\n",
            "Gradient Descent(15/49): objective=696.8928669366339\n",
            "696.7916143488984\n",
            "Gradient Descent(16/49): objective=696.7916143488984\n",
            "696.701017217532\n",
            "Gradient Descent(17/49): objective=696.701017217532\n",
            "696.6195897256094\n",
            "Gradient Descent(18/49): objective=696.6195897256094\n",
            "696.5460698345364\n",
            "Gradient Descent(19/49): objective=696.5460698345364\n",
            "696.4793834248536\n",
            "Gradient Descent(20/49): objective=696.4793834248536\n",
            "696.4186151939682\n",
            "Gradient Descent(21/49): objective=696.4186151939682\n",
            "696.3629844974911\n",
            "Gradient Descent(22/49): objective=696.3629844974911\n",
            "696.3118250564794\n",
            "Gradient Descent(23/49): objective=696.3118250564794\n",
            "696.2645678090806\n",
            "Gradient Descent(24/49): objective=696.2645678090806\n",
            "696.220726375205\n",
            "Gradient Descent(25/49): objective=696.220726375205\n",
            "696.1798847171167\n",
            "Gradient Descent(26/49): objective=696.1798847171167\n",
            "696.141686656003\n",
            "Gradient Descent(27/49): objective=696.141686656003\n",
            "696.105826961754\n",
            "Gradient Descent(28/49): objective=696.105826961754\n",
            "696.072043778206\n",
            "Gradient Descent(29/49): objective=696.072043778206\n",
            "696.0401121828638\n",
            "Gradient Descent(30/49): objective=696.0401121828638\n",
            "696.0098387107206\n",
            "Gradient Descent(31/49): objective=696.0098387107206\n",
            "695.9810566975377\n",
            "Gradient Descent(32/49): objective=695.9810566975377\n",
            "695.9536223197189\n",
            "Gradient Descent(33/49): objective=695.9536223197189\n",
            "695.92741122636\n",
            "Gradient Descent(34/49): objective=695.92741122636\n",
            "695.9023156747344\n",
            "Gradient Descent(35/49): objective=695.9023156747344\n",
            "695.87824209377\n",
            "Gradient Descent(36/49): objective=695.87824209377\n",
            "695.8551090113992\n",
            "Gradient Descent(37/49): objective=695.8551090113992\n",
            "695.8328452912637\n",
            "Gradient Descent(38/49): objective=695.8328452912637\n",
            "695.8113886324363\n",
            "Gradient Descent(39/49): objective=695.8113886324363\n",
            "695.7906842927656\n",
            "Gradient Descent(40/49): objective=695.7906842927656\n",
            "695.7706840023488\n",
            "Gradient Descent(41/49): objective=695.7706840023488\n",
            "695.7513450386715\n",
            "Gradient Descent(42/49): objective=695.7513450386715\n",
            "695.7326294392003\n",
            "Gradient Descent(43/49): objective=695.7326294392003\n",
            "695.714503330864\n",
            "Gradient Descent(44/49): objective=695.714503330864\n",
            "695.6969363589234\n",
            "Gradient Descent(45/49): objective=695.6969363589234\n",
            "695.6799012003625\n",
            "Gradient Descent(46/49): objective=695.6799012003625\n",
            "695.6633731491596\n",
            "Gradient Descent(47/49): objective=695.6633731491596\n",
            "695.6473297626892\n",
            "Gradient Descent(48/49): objective=695.6473297626892\n",
            "695.6317505601199\n",
            "Gradient Descent(49/49): objective=695.6317505601199\n",
            "Gradient Descent: execution time=0.027 seconds\n"
          ],
          "name": "stdout"
        }
      ]
    },
    {
      "cell_type": "markdown",
      "metadata": {
        "id": "bSd_H1WJB0Rw"
      },
      "source": [
        "## L'évolution de la fonction objective"
      ]
    },
    {
      "cell_type": "code",
      "metadata": {
        "id": "xEyEQc8wB0Rx",
        "outputId": "2d146c46-783e-4e7d-d684-94d7cd1a1309",
        "colab": {
          "base_uri": "https://localhost:8080/",
          "height": 497
        }
      },
      "source": [
        "plt.figure(figsize=(8, 8))\n",
        "plt.xlabel('Number of steps')\n",
        "plt.ylabel('Objective Function')\n",
        "#plt.yscale(\"log\")\n",
        "plt.plot(range(len(gradient_objectives)), gradient_objectives,'r', label='gradient descent with 1/L stepsize')\n",
        "plt.legend(loc='upper right')\n",
        "plt.show()"
      ],
      "execution_count": 75,
      "outputs": [
        {
          "output_type": "display_data",
          "data": {
            "image/png": "[encoded data removed]",
            "text/plain": [
              "<Figure size 576x576 with 1 Axes>"
            ]
          },
          "metadata": {
            "tags": [],
            "needs_background": "light"
          }
        }
      ]
    },
    {
      "cell_type": "code",
      "metadata": {
        "id": "TpXFsKXLB0R1"
      },
      "source": [
        ""
      ],
      "execution_count": null,
      "outputs": []
    }
  ]
}